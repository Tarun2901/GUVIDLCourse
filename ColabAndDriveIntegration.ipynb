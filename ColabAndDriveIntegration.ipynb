{
  "nbformat": 4,
  "nbformat_minor": 0,
  "metadata": {
    "colab": {
      "name": "ColabAndDriveIntegration.ipynb",
      "provenance": [],
      "authorship_tag": "ABX9TyNQuxNgU0h7uVT8hDVQ8YuO",
      "include_colab_link": true
    },
    "kernelspec": {
      "name": "python3",
      "display_name": "Python 3"
    },
    "language_info": {
      "name": "python"
    }
  },
  "cells": [
    {
      "cell_type": "markdown",
      "metadata": {
        "id": "view-in-github",
        "colab_type": "text"
      },
      "source": [
        "<a href=\"https://colab.research.google.com/github/Tarun2901/GUVIDLCourse/blob/main/ColabAndDriveIntegration.ipynb\" target=\"_parent\"><img src=\"https://colab.research.google.com/assets/colab-badge.svg\" alt=\"Open In Colab\"/></a>"
      ]
    },
    {
      "cell_type": "code",
      "metadata": {
        "id": "GzjldmKs_OZI"
      },
      "source": [
        "# Import PyDrive and associated libraries.\n",
        "# This only needs to be done once in a notebook.\n",
        "from pydrive.auth import GoogleAuth\n",
        "from pydrive.drive import GoogleDrive\n",
        "from google.colab import auth\n",
        "from oauth2client.client import GoogleCredentials\n",
        "\n",
        "# Authenticate and create the PyDrive client.\n",
        "# This only needs to be done once in a notebook.\n",
        "auth.authenticate_user()\n",
        "gauth = GoogleAuth()\n",
        "gauth.credentials = GoogleCredentials.get_application_default()\n",
        "drive = GoogleDrive(gauth)"
      ],
      "execution_count": null,
      "outputs": []
    },
    {
      "cell_type": "code",
      "metadata": {
        "colab": {
          "base_uri": "https://localhost:8080/"
        },
        "id": "nBAr0S8d_1Tb",
        "outputId": "a6416508-5703-4832-b915-207f36dafb9e"
      },
      "source": [
        "# Create & upload a text file.\n",
        "uploaded = drive.CreateFile({'title': 'Sample file.txt'})\n",
        "uploaded.SetContentString('Sample upload file content')\n",
        "uploaded.Upload()\n",
        "print('Uploaded file with ID {}'.format(uploaded.get('id')))"
      ],
      "execution_count": null,
      "outputs": [
        {
          "output_type": "stream",
          "text": [
            "Uploaded file with ID 1SM66e2mj9nOusnwrB8J4iMhoAJ9MIdmp\n"
          ],
          "name": "stdout"
        }
      ]
    },
    {
      "cell_type": "code",
      "metadata": {
        "colab": {
          "base_uri": "https://localhost:8080/"
        },
        "id": "62qXOEl5AI01",
        "outputId": "eea5cf79-44e5-4594-9ff0-e81477dc10c8"
      },
      "source": [
        "# Create & upload a text file.\n",
        "uploaded = drive.CreateFile({'title': 'Sample file.txt'})\n",
        "uploaded.SetContentString('Hello World')\n",
        "uploaded.Upload()\n",
        "print('Uploaded file with ID {}'.format(uploaded.get('id')))"
      ],
      "execution_count": null,
      "outputs": [
        {
          "output_type": "stream",
          "text": [
            "Uploaded file with ID 1iTU1VKOo8nyRn3dPnfjqMO9Cfq5bf5Z3\n"
          ],
          "name": "stdout"
        }
      ]
    },
    {
      "cell_type": "code",
      "metadata": {
        "colab": {
          "base_uri": "https://localhost:8080/"
        },
        "id": "EUeN1-aqAM9Q",
        "outputId": "e2480233-236a-4594-e735-b925801a8943"
      },
      "source": [
        "\n",
        "# List .txt files in the root.\n",
        "#\n",
        "# Search query reference:\n",
        "# https://developers.google.com/drive/v2/web/search-parameters\n",
        "listed = drive.ListFile({'q': \"title contains '.txt' and 'root' in parents\"}).GetList()\n",
        "for file in listed:\n",
        "  print('title {}, id {}'.format(file['title'], file['id']))"
      ],
      "execution_count": null,
      "outputs": [
        {
          "output_type": "stream",
          "text": [
            "title Sample file.txt, id 1iTU1VKOo8nyRn3dPnfjqMO9Cfq5bf5Z3\n",
            "title Sample file.txt, id 1SM66e2mj9nOusnwrB8J4iMhoAJ9MIdmp\n",
            "title Sample file.txt, id 1XecxGNAXJU1SpCjs1lqNNL6DxS3HaK6I\n"
          ],
          "name": "stdout"
        }
      ]
    },
    {
      "cell_type": "code",
      "metadata": {
        "id": "DlAkJn_5BDtG"
      },
      "source": [
        "\n",
        "\n",
        "# Download a file based on its file ID.\n",
        "#\n",
        "# A file ID looks like: laggVyWshwcyP6kEI-y_W3P8D26sz\n",
        "file_id = '1PuvbHLWqR_8Ky0dvusXga3SzI0a19m-q'# https://drive.google.com/file/d/1PuvbHLWqR_8Ky0dvusXga3SzI0a19m-q/view?usp=sharing\n",
        "downloaded = drive.CreateFile({'id': file_id})\n",
        "print('Downloaded content \"{}\"'.format(downloaded.GetContentString()))"
      ],
      "execution_count": null,
      "outputs": []
    },
    {
      "cell_type": "code",
      "metadata": {
        "id": "o38lVr3oB2py"
      },
      "source": [
        "downloaded.GetContentFile('mobile_cleaned_local.csv')"
      ],
      "execution_count": null,
      "outputs": []
    },
    {
      "cell_type": "code",
      "metadata": {
        "colab": {
          "base_uri": "https://localhost:8080/"
        },
        "id": "aFjPjhtdB9ZE",
        "outputId": "96dd7a9d-a031-4b46-b5c2-ab9addd636fb"
      },
      "source": [
        "!ls"
      ],
      "execution_count": null,
      "outputs": [
        {
          "output_type": "stream",
          "text": [
            "adc.json  mobile_cleaned_local.csd  mobile_cleaned_local.csv  sample_data\n"
          ],
          "name": "stdout"
        }
      ]
    },
    {
      "cell_type": "code",
      "metadata": {
        "id": "AUKkuh66B_u4"
      },
      "source": [
        "import pandas as pd"
      ],
      "execution_count": null,
      "outputs": []
    },
    {
      "cell_type": "code",
      "metadata": {
        "id": "YX_q0HuUCFc9"
      },
      "source": [
        "df = pd.read_csv('mobile_cleaned_local.csv')"
      ],
      "execution_count": null,
      "outputs": []
    },
    {
      "cell_type": "code",
      "metadata": {
        "colab": {
          "base_uri": "https://localhost:8080/",
          "height": 224
        },
        "id": "3_n00BR2CKcH",
        "outputId": "76d60cd6-e971-4eb7-f5fd-ae258e529c74"
      },
      "source": [
        "df.head()"
      ],
      "execution_count": null,
      "outputs": [
        {
          "output_type": "execute_result",
          "data": {
            "text/html": [
              "<div>\n",
              "<style scoped>\n",
              "    .dataframe tbody tr th:only-of-type {\n",
              "        vertical-align: middle;\n",
              "    }\n",
              "\n",
              "    .dataframe tbody tr th {\n",
              "        vertical-align: top;\n",
              "    }\n",
              "\n",
              "    .dataframe thead th {\n",
              "        text-align: right;\n",
              "    }\n",
              "</style>\n",
              "<table border=\"1\" class=\"dataframe\">\n",
              "  <thead>\n",
              "    <tr style=\"text-align: right;\">\n",
              "      <th></th>\n",
              "      <th>sim_type</th>\n",
              "      <th>aperture</th>\n",
              "      <th>gpu_rank</th>\n",
              "      <th>weight</th>\n",
              "      <th>stand_by_time</th>\n",
              "      <th>processor_frequency</th>\n",
              "      <th>thickness</th>\n",
              "      <th>flash_type</th>\n",
              "      <th>front_camera_resolution</th>\n",
              "      <th>auto_focus</th>\n",
              "      <th>screen_size</th>\n",
              "      <th>frames_per_second</th>\n",
              "      <th>FM</th>\n",
              "      <th>no_of_reviews_in_gsmarena_in_week</th>\n",
              "      <th>os</th>\n",
              "      <th>phone_height</th>\n",
              "      <th>screen_protection</th>\n",
              "      <th>sim_size</th>\n",
              "      <th>price</th>\n",
              "      <th>talk_time</th>\n",
              "      <th>video_resolution</th>\n",
              "      <th>display_resolution</th>\n",
              "      <th>removable_battery</th>\n",
              "      <th>display_type</th>\n",
              "      <th>primary_camera_resolution</th>\n",
              "      <th>battery_type</th>\n",
              "      <th>ram_memory</th>\n",
              "      <th>internal_memory</th>\n",
              "      <th>brand_rank</th>\n",
              "      <th>no_of_cores</th>\n",
              "      <th>micro_sd_slot</th>\n",
              "      <th>screen_pixel_density</th>\n",
              "      <th>water_proof_rate</th>\n",
              "      <th>phone_width</th>\n",
              "      <th>expandable_memory</th>\n",
              "      <th>version</th>\n",
              "      <th>usb_type</th>\n",
              "      <th>battery_capacity</th>\n",
              "      <th>processor_rank</th>\n",
              "      <th>is_liked</th>\n",
              "    </tr>\n",
              "  </thead>\n",
              "  <tbody>\n",
              "    <tr>\n",
              "      <th>0</th>\n",
              "      <td>0</td>\n",
              "      <td>12</td>\n",
              "      <td>55</td>\n",
              "      <td>155.0</td>\n",
              "      <td>250</td>\n",
              "      <td>1.3</td>\n",
              "      <td>10.5</td>\n",
              "      <td>5</td>\n",
              "      <td>2.00</td>\n",
              "      <td>0</td>\n",
              "      <td>4.5</td>\n",
              "      <td>15</td>\n",
              "      <td>3</td>\n",
              "      <td>0</td>\n",
              "      <td>0</td>\n",
              "      <td>132.9</td>\n",
              "      <td>26</td>\n",
              "      <td>3</td>\n",
              "      <td>3870</td>\n",
              "      <td>9</td>\n",
              "      <td>480</td>\n",
              "      <td>12</td>\n",
              "      <td>3</td>\n",
              "      <td>11</td>\n",
              "      <td>5.00</td>\n",
              "      <td>1</td>\n",
              "      <td>1</td>\n",
              "      <td>7</td>\n",
              "      <td>29</td>\n",
              "      <td>6</td>\n",
              "      <td>4</td>\n",
              "      <td>2</td>\n",
              "      <td>3</td>\n",
              "      <td>67.8</td>\n",
              "      <td>64.0</td>\n",
              "      <td>5</td>\n",
              "      <td>3</td>\n",
              "      <td>2000</td>\n",
              "      <td>125</td>\n",
              "      <td>1</td>\n",
              "    </tr>\n",
              "    <tr>\n",
              "      <th>1</th>\n",
              "      <td>0</td>\n",
              "      <td>1</td>\n",
              "      <td>55</td>\n",
              "      <td>132.0</td>\n",
              "      <td>300</td>\n",
              "      <td>1.3</td>\n",
              "      <td>10.6</td>\n",
              "      <td>5</td>\n",
              "      <td>0.30</td>\n",
              "      <td>1</td>\n",
              "      <td>4.0</td>\n",
              "      <td>30</td>\n",
              "      <td>2</td>\n",
              "      <td>6</td>\n",
              "      <td>0</td>\n",
              "      <td>124.5</td>\n",
              "      <td>26</td>\n",
              "      <td>5</td>\n",
              "      <td>4059</td>\n",
              "      <td>9</td>\n",
              "      <td>720</td>\n",
              "      <td>15</td>\n",
              "      <td>3</td>\n",
              "      <td>11</td>\n",
              "      <td>5.00</td>\n",
              "      <td>1</td>\n",
              "      <td>1</td>\n",
              "      <td>7</td>\n",
              "      <td>11</td>\n",
              "      <td>6</td>\n",
              "      <td>4</td>\n",
              "      <td>4</td>\n",
              "      <td>6</td>\n",
              "      <td>64.0</td>\n",
              "      <td>32.0</td>\n",
              "      <td>5</td>\n",
              "      <td>3</td>\n",
              "      <td>2000</td>\n",
              "      <td>165</td>\n",
              "      <td>1</td>\n",
              "    </tr>\n",
              "    <tr>\n",
              "      <th>2</th>\n",
              "      <td>0</td>\n",
              "      <td>9</td>\n",
              "      <td>55</td>\n",
              "      <td>142.0</td>\n",
              "      <td>329</td>\n",
              "      <td>1.5</td>\n",
              "      <td>8.5</td>\n",
              "      <td>5</td>\n",
              "      <td>2.00</td>\n",
              "      <td>3</td>\n",
              "      <td>5.0</td>\n",
              "      <td>30</td>\n",
              "      <td>2</td>\n",
              "      <td>20</td>\n",
              "      <td>0</td>\n",
              "      <td>145.5</td>\n",
              "      <td>4</td>\n",
              "      <td>3</td>\n",
              "      <td>4777</td>\n",
              "      <td>10</td>\n",
              "      <td>1080</td>\n",
              "      <td>4</td>\n",
              "      <td>3</td>\n",
              "      <td>1</td>\n",
              "      <td>5.04</td>\n",
              "      <td>2</td>\n",
              "      <td>1</td>\n",
              "      <td>7</td>\n",
              "      <td>27</td>\n",
              "      <td>6</td>\n",
              "      <td>4</td>\n",
              "      <td>9</td>\n",
              "      <td>6</td>\n",
              "      <td>72.0</td>\n",
              "      <td>32.0</td>\n",
              "      <td>6</td>\n",
              "      <td>3</td>\n",
              "      <td>2500</td>\n",
              "      <td>164</td>\n",
              "      <td>0</td>\n",
              "    </tr>\n",
              "    <tr>\n",
              "      <th>3</th>\n",
              "      <td>0</td>\n",
              "      <td>8</td>\n",
              "      <td>55</td>\n",
              "      <td>152.0</td>\n",
              "      <td>385</td>\n",
              "      <td>1.3</td>\n",
              "      <td>8.0</td>\n",
              "      <td>5</td>\n",
              "      <td>2.00</td>\n",
              "      <td>3</td>\n",
              "      <td>5.0</td>\n",
              "      <td>15</td>\n",
              "      <td>3</td>\n",
              "      <td>0</td>\n",
              "      <td>0</td>\n",
              "      <td>147.5</td>\n",
              "      <td>26</td>\n",
              "      <td>3</td>\n",
              "      <td>5799</td>\n",
              "      <td>19</td>\n",
              "      <td>720</td>\n",
              "      <td>17</td>\n",
              "      <td>3</td>\n",
              "      <td>2</td>\n",
              "      <td>5.00</td>\n",
              "      <td>1</td>\n",
              "      <td>1</td>\n",
              "      <td>7</td>\n",
              "      <td>4</td>\n",
              "      <td>6</td>\n",
              "      <td>4</td>\n",
              "      <td>1</td>\n",
              "      <td>3</td>\n",
              "      <td>75.1</td>\n",
              "      <td>32.0</td>\n",
              "      <td>6</td>\n",
              "      <td>3</td>\n",
              "      <td>3000</td>\n",
              "      <td>165</td>\n",
              "      <td>1</td>\n",
              "    </tr>\n",
              "    <tr>\n",
              "      <th>4</th>\n",
              "      <td>1</td>\n",
              "      <td>1</td>\n",
              "      <td>55</td>\n",
              "      <td>234.0</td>\n",
              "      <td>385</td>\n",
              "      <td>1.3</td>\n",
              "      <td>7.9</td>\n",
              "      <td>5</td>\n",
              "      <td>1.92</td>\n",
              "      <td>3</td>\n",
              "      <td>5.0</td>\n",
              "      <td>15</td>\n",
              "      <td>3</td>\n",
              "      <td>0</td>\n",
              "      <td>0</td>\n",
              "      <td>179.0</td>\n",
              "      <td>18</td>\n",
              "      <td>3</td>\n",
              "      <td>5990</td>\n",
              "      <td>11</td>\n",
              "      <td>720</td>\n",
              "      <td>17</td>\n",
              "      <td>3</td>\n",
              "      <td>1</td>\n",
              "      <td>5.00</td>\n",
              "      <td>1</td>\n",
              "      <td>1</td>\n",
              "      <td>7</td>\n",
              "      <td>4</td>\n",
              "      <td>6</td>\n",
              "      <td>4</td>\n",
              "      <td>1</td>\n",
              "      <td>6</td>\n",
              "      <td>91.0</td>\n",
              "      <td>32.0</td>\n",
              "      <td>6</td>\n",
              "      <td>3</td>\n",
              "      <td>3000</td>\n",
              "      <td>165</td>\n",
              "      <td>0</td>\n",
              "    </tr>\n",
              "  </tbody>\n",
              "</table>\n",
              "</div>"
            ],
            "text/plain": [
              "   sim_type  aperture  gpu_rank  ...  battery_capacity  processor_rank  is_liked\n",
              "0         0        12        55  ...              2000             125         1\n",
              "1         0         1        55  ...              2000             165         1\n",
              "2         0         9        55  ...              2500             164         0\n",
              "3         0         8        55  ...              3000             165         1\n",
              "4         1         1        55  ...              3000             165         0\n",
              "\n",
              "[5 rows x 40 columns]"
            ]
          },
          "metadata": {
            "tags": []
          },
          "execution_count": 16
        }
      ]
    },
    {
      "cell_type": "code",
      "metadata": {
        "id": "x3nQsd7UCScs"
      },
      "source": [
        "import seaborn as sns"
      ],
      "execution_count": 19,
      "outputs": []
    },
    {
      "cell_type": "code",
      "metadata": {
        "id": "YDg33612CY7W",
        "colab": {
          "base_uri": "https://localhost:8080/",
          "height": 279
        },
        "outputId": "9c1cee51-82b0-484f-e9fd-111d56fc3c97"
      },
      "source": [
        "ax = sns.scatterplot(x = 'thickness', y = 'battery_capacity', data = df)"
      ],
      "execution_count": 20,
      "outputs": [
        {
          "output_type": "display_data",
          "data": {
            "image/png": "[encoded data removed]",
            "text/plain": [
              "<Figure size 432x288 with 1 Axes>"
            ]
          },
          "metadata": {
            "tags": [],
            "needs_background": "light"
          }
        }
      ]
    },
    {
      "cell_type": "code",
      "metadata": {
        "id": "jEHBLBaFDR_q"
      },
      "source": [
        ""
      ],
      "execution_count": null,
      "outputs": []
    }
  ]
}