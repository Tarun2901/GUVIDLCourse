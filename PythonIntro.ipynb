{
  "nbformat": 4,
  "nbformat_minor": 0,
  "metadata": {
    "colab": {
      "name": "PythonIntro.ipynb",
      "provenance": [],
      "authorship_tag": "ABX9TyN1kWWvqi0MHJjBOCmQzgZH",
      "include_colab_link": true
    },
    "kernelspec": {
      "display_name": "Python 3",
      "name": "python3"
    },
    "language_info": {
      "name": "python"
    }
  },
  "cells": [
    {
      "cell_type": "markdown",
      "metadata": {
        "id": "view-in-github",
        "colab_type": "text"
      },
      "source": [
        "<a href=\"https://colab.research.google.com/github/Tarun2901/GUVIDLCourse/blob/main/PythonIntro.ipynb\" target=\"_parent\"><img src=\"https://colab.research.google.com/assets/colab-badge.svg\" alt=\"Open In Colab\"/></a>"
      ]
    },
    {
      "cell_type": "markdown",
      "metadata": {
        "id": "IntlxQ1YP4t-"
      },
      "source": [
        "# Simple Data types and operators"
      ]
    },
    {
      "cell_type": "code",
      "metadata": {
        "id": "KnUzAJpmLcbA"
      },
      "source": [
        "name = 'iPhone 5s'"
      ],
      "execution_count": null,
      "outputs": []
    },
    {
      "cell_type": "code",
      "metadata": {
        "colab": {
          "base_uri": "https://localhost:8080/"
        },
        "id": "424_BNJaLlz9",
        "outputId": "5a87aee8-1195-4d15-8f7f-503f91584ee2"
      },
      "source": [
        "type(name)"
      ],
      "execution_count": null,
      "outputs": [
        {
          "output_type": "execute_result",
          "data": {
            "text/plain": [
              "str"
            ]
          },
          "metadata": {
            "tags": []
          },
          "execution_count": 2
        }
      ]
    },
    {
      "cell_type": "code",
      "metadata": {
        "colab": {
          "base_uri": "https://localhost:8080/"
        },
        "id": "w1XJFyglLrxJ",
        "outputId": "5939c928-d59e-4895-a84b-97d2597953de"
      },
      "source": [
        "print(name)"
      ],
      "execution_count": null,
      "outputs": [
        {
          "output_type": "stream",
          "text": [
            "iPhone 5s\n"
          ],
          "name": "stdout"
        }
      ]
    },
    {
      "cell_type": "code",
      "metadata": {
        "colab": {
          "base_uri": "https://localhost:8080/"
        },
        "id": "JRWPRXLYL0Nz",
        "outputId": "20a349fb-ce08-40ab-f711-8351ca1d34ed"
      },
      "source": [
        "screen_size = 4.3\n",
        "type(screen_size)"
      ],
      "execution_count": null,
      "outputs": [
        {
          "output_type": "execute_result",
          "data": {
            "text/plain": [
              "float"
            ]
          },
          "metadata": {
            "tags": []
          },
          "execution_count": 5
        }
      ]
    },
    {
      "cell_type": "code",
      "metadata": {
        "id": "V-S4_AbSL2AS"
      },
      "source": [
        "num_of_speakers = 1"
      ],
      "execution_count": null,
      "outputs": []
    },
    {
      "cell_type": "code",
      "metadata": {
        "colab": {
          "base_uri": "https://localhost:8080/"
        },
        "id": "WaN2akIPL-Wf",
        "outputId": "4672e0af-ee88-4353-fe8c-2a4f255ca880"
      },
      "source": [
        "type(num_of_speakers)"
      ],
      "execution_count": null,
      "outputs": [
        {
          "output_type": "execute_result",
          "data": {
            "text/plain": [
              "int"
            ]
          },
          "metadata": {
            "tags": []
          },
          "execution_count": 7
        }
      ]
    },
    {
      "cell_type": "code",
      "metadata": {
        "colab": {
          "base_uri": "https://localhost:8080/"
        },
        "id": "cdjpPqeNMCGS",
        "outputId": "84b7a6de-3815-4241-ea9c-efd43bcc5255"
      },
      "source": [
        "print('I just bought an ' + name)"
      ],
      "execution_count": null,
      "outputs": [
        {
          "output_type": "stream",
          "text": [
            "I just bought an iPhone 5s\n"
          ],
          "name": "stdout"
        }
      ]
    },
    {
      "cell_type": "code",
      "metadata": {
        "colab": {
          "base_uri": "https://localhost:8080/"
        },
        "id": "BRkU_CfPMHMb",
        "outputId": "a8759b54-13bf-42b1-f823-4cf0edc3d314"
      },
      "source": [
        "a = 3\n",
        "b = 2\n",
        "print(a*b,a/b,a-b,a+b, a ** b, a // b)"
      ],
      "execution_count": null,
      "outputs": [
        {
          "output_type": "stream",
          "text": [
            "6 1.5 1 5 9 1\n"
          ],
          "name": "stdout"
        }
      ]
    },
    {
      "cell_type": "code",
      "metadata": {
        "colab": {
          "base_uri": "https://localhost:8080/"
        },
        "id": "ZaxMsrbmMMxc",
        "outputId": "29a76367-0b30-4ce8-8c5d-a9784bb04542"
      },
      "source": [
        "is_android = False\n",
        "type(is_android)"
      ],
      "execution_count": null,
      "outputs": [
        {
          "output_type": "execute_result",
          "data": {
            "text/plain": [
              "bool"
            ]
          },
          "metadata": {
            "tags": []
          },
          "execution_count": 14
        }
      ]
    },
    {
      "cell_type": "code",
      "metadata": {
        "colab": {
          "base_uri": "https://localhost:8080/"
        },
        "id": "IXMJwjTGMVs3",
        "outputId": "0ea0495d-9035-4861-e515-349680d9a231"
      },
      "source": [
        "print(is_android == True)"
      ],
      "execution_count": null,
      "outputs": [
        {
          "output_type": "stream",
          "text": [
            "False\n"
          ],
          "name": "stdout"
        }
      ]
    },
    {
      "cell_type": "code",
      "metadata": {
        "colab": {
          "base_uri": "https://localhost:8080/"
        },
        "id": "oYkCT1AlMaWi",
        "outputId": "26a9b263-2403-4ca9-900a-3ffe2f5841d8"
      },
      "source": [
        "print(is_android == False and num_of_speakers >1)"
      ],
      "execution_count": null,
      "outputs": [
        {
          "output_type": "stream",
          "text": [
            "False\n"
          ],
          "name": "stdout"
        }
      ]
    },
    {
      "cell_type": "markdown",
      "metadata": {
        "id": "FRng70aCPsim"
      },
      "source": [
        "# Code blocks - If, For and While"
      ]
    },
    {
      "cell_type": "code",
      "metadata": {
        "colab": {
          "base_uri": "https://localhost:8080/"
        },
        "id": "gclp4_cBMfEJ",
        "outputId": "86f8176d-75af-4760-9583-369119989a68"
      },
      "source": [
        "if is_android == True:\n",
        "  print(name + ' supports Android')\n",
        "  print('Continuing to print inside the if block')\n",
        "print('Printing outside the if block')"
      ],
      "execution_count": null,
      "outputs": [
        {
          "output_type": "stream",
          "text": [
            "Printing outside the if block\n"
          ],
          "name": "stdout"
        }
      ]
    },
    {
      "cell_type": "code",
      "metadata": {
        "colab": {
          "base_uri": "https://localhost:8080/"
        },
        "id": "n-FFa-qNM1Sv",
        "outputId": "e74a63e6-aa6f-4ff6-fb3a-11fb4a07b21a"
      },
      "source": [
        "for i in range(5):\n",
        "  print(i, i**2)"
      ],
      "execution_count": null,
      "outputs": [
        {
          "output_type": "stream",
          "text": [
            "0 0\n",
            "1 1\n",
            "2 4\n",
            "3 9\n",
            "4 16\n"
          ],
          "name": "stdout"
        }
      ]
    },
    {
      "cell_type": "code",
      "metadata": {
        "id": "NfMhBeI2M87s"
      },
      "source": [
        "range?"
      ],
      "execution_count": null,
      "outputs": []
    },
    {
      "cell_type": "code",
      "metadata": {
        "colab": {
          "base_uri": "https://localhost:8080/"
        },
        "id": "Aepvy-JbNQ63",
        "outputId": "83a21411-679d-4cb0-d742-870adc0652a2"
      },
      "source": [
        "i = 0\n",
        "while i<5:\n",
        "  print(i,i ** 2)\n",
        "  i = i+1\n",
        "  # equivalent to i+=1"
      ],
      "execution_count": 24,
      "outputs": [
        {
          "output_type": "stream",
          "text": [
            "0 0\n",
            "1 1\n",
            "2 4\n",
            "3 9\n",
            "4 16\n"
          ],
          "name": "stdout"
        }
      ]
    },
    {
      "cell_type": "markdown",
      "metadata": {
        "id": "UexRfPcqP1WS"
      },
      "source": [
        "# Functions"
      ]
    },
    {
      "cell_type": "code",
      "metadata": {
        "id": "4r1j7yvDN9ET"
      },
      "source": [
        "# functions\n",
        "def print_squares(stop_val):\n",
        "  for i in range(stop_val):\n",
        "    print(i, i ** 2)"
      ],
      "execution_count": 25,
      "outputs": []
    },
    {
      "cell_type": "code",
      "metadata": {
        "colab": {
          "base_uri": "https://localhost:8080/"
        },
        "id": "ErgFgZGlOQVH",
        "outputId": "7c5b8d55-07b9-49d2-8b06-0ea84b6ac780"
      },
      "source": [
        "print_squares(5)"
      ],
      "execution_count": 26,
      "outputs": [
        {
          "output_type": "stream",
          "text": [
            "0 0\n",
            "1 1\n",
            "2 4\n",
            "3 9\n",
            "4 16\n"
          ],
          "name": "stdout"
        }
      ]
    },
    {
      "cell_type": "code",
      "metadata": {
        "colab": {
          "base_uri": "https://localhost:8080/"
        },
        "id": "75uwT9DwOSLz",
        "outputId": "5e422b4e-0fbf-43c2-8d09-5fbe703fd8bb"
      },
      "source": [
        "print_squares(3)"
      ],
      "execution_count": 27,
      "outputs": [
        {
          "output_type": "stream",
          "text": [
            "0 0\n",
            "1 1\n",
            "2 4\n"
          ],
          "name": "stdout"
        }
      ]
    },
    {
      "cell_type": "code",
      "metadata": {
        "id": "FJGm6y-TOT-Y"
      },
      "source": [
        "def sum_of_squares(stop_val):\n",
        "  sum1 = 0\n",
        "  for i in range(stop_val):\n",
        "    sum1 += i ** 2\n",
        "  return sum1"
      ],
      "execution_count": 30,
      "outputs": []
    },
    {
      "cell_type": "code",
      "metadata": {
        "colab": {
          "base_uri": "https://localhost:8080/"
        },
        "id": "zN0k7TU7OgHq",
        "outputId": "dd7ed401-0c02-48e3-fc88-e31a529fd570"
      },
      "source": [
        "sum_of_squares(5)"
      ],
      "execution_count": 31,
      "outputs": [
        {
          "output_type": "execute_result",
          "data": {
            "text/plain": [
              "30"
            ]
          },
          "metadata": {
            "tags": []
          },
          "execution_count": 31
        }
      ]
    },
    {
      "cell_type": "code",
      "metadata": {
        "id": "0ipFz-xMOiL-"
      },
      "source": [
        "sum5 = sum_of_squares(5)"
      ],
      "execution_count": 32,
      "outputs": []
    },
    {
      "cell_type": "code",
      "metadata": {
        "id": "I6Pw7g20OpzP"
      },
      "source": [
        "def print_squares_with_startval(stop_val,start_val = 0):\n",
        "  \"\"\"Prints the squares of numbers starting from start_val(inclusive) and ending with stop_val(exclusive)\"\"\"\n",
        "  for i in range(start_val,stop_val):\n",
        "    print(i, i ** 2)"
      ],
      "execution_count": 35,
      "outputs": []
    },
    {
      "cell_type": "code",
      "metadata": {
        "colab": {
          "base_uri": "https://localhost:8080/"
        },
        "id": "GV3HsJDSO2Ig",
        "outputId": "bf4a3a6d-445e-4509-e53f-679d3431448a"
      },
      "source": [
        "print_squares_with_startval(5,2)"
      ],
      "execution_count": 36,
      "outputs": [
        {
          "output_type": "stream",
          "text": [
            "2 4\n",
            "3 9\n",
            "4 16\n"
          ],
          "name": "stdout"
        }
      ]
    },
    {
      "cell_type": "code",
      "metadata": {
        "colab": {
          "base_uri": "https://localhost:8080/"
        },
        "id": "ltdCmWVqO5Fl",
        "outputId": "850dd957-8d77-45b3-a8fd-c7f081bb6607"
      },
      "source": [
        "help(print_squares_with_startval)"
      ],
      "execution_count": 37,
      "outputs": [
        {
          "output_type": "stream",
          "text": [
            "Help on function print_squares_with_startval in module __main__:\n",
            "\n",
            "print_squares_with_startval(stop_val, start_val=0)\n",
            "    Prints the squares of numbers starting from start_val(inclusive) and ending with stop_val(exclusive)\n",
            "\n"
          ],
          "name": "stdout"
        }
      ]
    },
    {
      "cell_type": "markdown",
      "metadata": {
        "id": "4Z9GEMCIQBCA"
      },
      "source": [
        "# Lists"
      ]
    },
    {
      "cell_type": "code",
      "metadata": {
        "id": "XJ2yLaoRPS8T"
      },
      "source": [
        "my_phone = [name, is_android, screen_size]"
      ],
      "execution_count": 39,
      "outputs": []
    },
    {
      "cell_type": "code",
      "metadata": {
        "colab": {
          "base_uri": "https://localhost:8080/"
        },
        "id": "GhOK9QbEQLsc",
        "outputId": "d3a56204-9d6a-456d-b46e-51ed7b042583"
      },
      "source": [
        "type(my_phone)"
      ],
      "execution_count": 40,
      "outputs": [
        {
          "output_type": "execute_result",
          "data": {
            "text/plain": [
              "list"
            ]
          },
          "metadata": {
            "tags": []
          },
          "execution_count": 40
        }
      ]
    },
    {
      "cell_type": "code",
      "metadata": {
        "colab": {
          "base_uri": "https://localhost:8080/"
        },
        "id": "GHX71tb1QPSq",
        "outputId": "7410ff12-1225-4ca8-8026-110827acb1f5"
      },
      "source": [
        "print(my_phone)"
      ],
      "execution_count": 41,
      "outputs": [
        {
          "output_type": "stream",
          "text": [
            "['iPhone 5s', False, 4.3]\n"
          ],
          "name": "stdout"
        }
      ]
    },
    {
      "cell_type": "code",
      "metadata": {
        "colab": {
          "base_uri": "https://localhost:8080/",
          "height": 35
        },
        "id": "IM2WqYGfQQmE",
        "outputId": "baf3e5d2-8e2d-4e88-b046-56e5a242729e"
      },
      "source": [
        "my_phone[0]"
      ],
      "execution_count": 42,
      "outputs": [
        {
          "output_type": "execute_result",
          "data": {
            "application/vnd.google.colaboratory.intrinsic+json": {
              "type": "string"
            },
            "text/plain": [
              "'iPhone 5s'"
            ]
          },
          "metadata": {
            "tags": []
          },
          "execution_count": 42
        }
      ]
    },
    {
      "cell_type": "code",
      "metadata": {
        "colab": {
          "base_uri": "https://localhost:8080/"
        },
        "id": "1__3GvqAQUbY",
        "outputId": "d8562c9f-80b3-4e28-e4ac-39c261510a76"
      },
      "source": [
        "type(my_phone[0])"
      ],
      "execution_count": 44,
      "outputs": [
        {
          "output_type": "execute_result",
          "data": {
            "text/plain": [
              "str"
            ]
          },
          "metadata": {
            "tags": []
          },
          "execution_count": 44
        }
      ]
    },
    {
      "cell_type": "code",
      "metadata": {
        "colab": {
          "base_uri": "https://localhost:8080/"
        },
        "id": "Qf4gzWS1QW73",
        "outputId": "74bcc349-1804-42fa-a71c-171c411aa6ce"
      },
      "source": [
        "# range of values \n",
        "my_phone[1:3]"
      ],
      "execution_count": 46,
      "outputs": [
        {
          "output_type": "execute_result",
          "data": {
            "text/plain": [
              "[False, 4.3]"
            ]
          },
          "metadata": {
            "tags": []
          },
          "execution_count": 46
        }
      ]
    },
    {
      "cell_type": "code",
      "metadata": {
        "colab": {
          "base_uri": "https://localhost:8080/"
        },
        "id": "zAXKzioHQddG",
        "outputId": "75243eaa-ec88-4924-918b-24015383d019"
      },
      "source": [
        "my_dads_phone = my_phone\n",
        "print(my_dads_phone)"
      ],
      "execution_count": 47,
      "outputs": [
        {
          "output_type": "stream",
          "text": [
            "['iPhone 5s', False, 4.3]\n"
          ],
          "name": "stdout"
        }
      ]
    },
    {
      "cell_type": "code",
      "metadata": {
        "id": "3MblqFmsQpNl"
      },
      "source": [
        "my_phone[2] = 4"
      ],
      "execution_count": 48,
      "outputs": []
    },
    {
      "cell_type": "code",
      "metadata": {
        "colab": {
          "base_uri": "https://localhost:8080/"
        },
        "id": "mLO_w3pjQrAS",
        "outputId": "a1ad79f9-ec12-47a9-a679-bed24a2c5dbf"
      },
      "source": [
        "print(my_phone)"
      ],
      "execution_count": 49,
      "outputs": [
        {
          "output_type": "stream",
          "text": [
            "['iPhone 5s', False, 4]\n"
          ],
          "name": "stdout"
        }
      ]
    },
    {
      "cell_type": "code",
      "metadata": {
        "colab": {
          "base_uri": "https://localhost:8080/"
        },
        "id": "v4wfaApgQsbR",
        "outputId": "b8d9021b-453f-4014-b6d9-e186b6090e5c"
      },
      "source": [
        "print(my_dads_phone)"
      ],
      "execution_count": 50,
      "outputs": [
        {
          "output_type": "stream",
          "text": [
            "['iPhone 5s', False, 4]\n"
          ],
          "name": "stdout"
        }
      ]
    },
    {
      "cell_type": "code",
      "metadata": {
        "id": "1wW7rza-Quwc"
      },
      "source": [
        "# deep copy karne ke liye\n",
        "my_dads_phone = list(my_phone)"
      ],
      "execution_count": 51,
      "outputs": []
    },
    {
      "cell_type": "code",
      "metadata": {
        "id": "eQrZiXtCQ6WY"
      },
      "source": [
        "my_phone[2] = 4.3"
      ],
      "execution_count": 52,
      "outputs": []
    },
    {
      "cell_type": "code",
      "metadata": {
        "colab": {
          "base_uri": "https://localhost:8080/"
        },
        "id": "1tQQ-rxTQ_E7",
        "outputId": "e596d97f-c97a-4496-b1bb-d6887cfef9cf"
      },
      "source": [
        "print(my_phone)\n",
        "print(my_dads_phone)"
      ],
      "execution_count": 53,
      "outputs": [
        {
          "output_type": "stream",
          "text": [
            "['iPhone 5s', False, 4.3]\n",
            "['iPhone 5s', False, 4]\n"
          ],
          "name": "stdout"
        }
      ]
    },
    {
      "cell_type": "code",
      "metadata": {
        "colab": {
          "base_uri": "https://localhost:8080/"
        },
        "id": "WI5svwo3RCg2",
        "outputId": "95005104-bcd4-4d96-957c-b253094f1772"
      },
      "source": [
        "len(my_phone)"
      ],
      "execution_count": 54,
      "outputs": [
        {
          "output_type": "execute_result",
          "data": {
            "text/plain": [
              "3"
            ]
          },
          "metadata": {
            "tags": []
          },
          "execution_count": 54
        }
      ]
    },
    {
      "cell_type": "code",
      "metadata": {
        "id": "Gb9uTFXKRErJ"
      },
      "source": [
        "len?"
      ],
      "execution_count": 55,
      "outputs": []
    },
    {
      "cell_type": "code",
      "metadata": {
        "id": "HIsTeSk6RFkp"
      },
      "source": [
        "my_phone.append('3G')"
      ],
      "execution_count": 56,
      "outputs": []
    },
    {
      "cell_type": "code",
      "metadata": {
        "colab": {
          "base_uri": "https://localhost:8080/"
        },
        "id": "HjLxQUPNRM-s",
        "outputId": "4ac2b406-bf3d-4102-bbb7-75f78e1f4bc3"
      },
      "source": [
        "print(my_phone)"
      ],
      "execution_count": 57,
      "outputs": [
        {
          "output_type": "stream",
          "text": [
            "['iPhone 5s', False, 4.3, '3G']\n"
          ],
          "name": "stdout"
        }
      ]
    },
    {
      "cell_type": "code",
      "metadata": {
        "colab": {
          "base_uri": "https://localhost:8080/"
        },
        "id": "6urxNUUgROjR",
        "outputId": "bc50adda-1ddd-4a4f-b869-61294d974d51"
      },
      "source": [
        "len(my_phone)"
      ],
      "execution_count": 58,
      "outputs": [
        {
          "output_type": "execute_result",
          "data": {
            "text/plain": [
              "4"
            ]
          },
          "metadata": {
            "tags": []
          },
          "execution_count": 58
        }
      ]
    },
    {
      "cell_type": "code",
      "metadata": {
        "id": "em447DQQRP95"
      },
      "source": [
        "iphone5s_some_prefs = ['single_sim', 35000]"
      ],
      "execution_count": 59,
      "outputs": []
    },
    {
      "cell_type": "code",
      "metadata": {
        "id": "RQR4txJ8RWDX"
      },
      "source": [
        "my_phone = my_phone + iphone5s_some_prefs"
      ],
      "execution_count": 60,
      "outputs": []
    },
    {
      "cell_type": "code",
      "metadata": {
        "colab": {
          "base_uri": "https://localhost:8080/"
        },
        "id": "WwcBgQ1hRbmH",
        "outputId": "1b13b6fc-358e-46d2-e732-c22fcf76eff5"
      },
      "source": [
        "print(my_phone)"
      ],
      "execution_count": 61,
      "outputs": [
        {
          "output_type": "stream",
          "text": [
            "['iPhone 5s', False, 4.3, '3G', 'single_sim', 35000]\n"
          ],
          "name": "stdout"
        }
      ]
    },
    {
      "cell_type": "code",
      "metadata": {
        "colab": {
          "base_uri": "https://localhost:8080/"
        },
        "id": "LAN4sgjMRc1B",
        "outputId": "43b12ce2-8b50-478c-e1e2-49f7cc158efa"
      },
      "source": [
        "# Use of iterators\n",
        "for data in my_phone:\n",
        "  print(data)"
      ],
      "execution_count": 63,
      "outputs": [
        {
          "output_type": "stream",
          "text": [
            "iPhone 5s\n",
            "False\n",
            "4.3\n",
            "3G\n",
            "single_sim\n",
            "35000\n"
          ],
          "name": "stdout"
        }
      ]
    },
    {
      "cell_type": "code",
      "metadata": {
        "colab": {
          "base_uri": "https://localhost:8080/"
        },
        "id": "jgOky-8DRmON",
        "outputId": "b3a48502-15c3-458f-8066-76866ef36eed"
      },
      "source": [
        "range(5)"
      ],
      "execution_count": 64,
      "outputs": [
        {
          "output_type": "execute_result",
          "data": {
            "text/plain": [
              "range(0, 5)"
            ]
          },
          "metadata": {
            "tags": []
          },
          "execution_count": 64
        }
      ]
    },
    {
      "cell_type": "code",
      "metadata": {
        "colab": {
          "base_uri": "https://localhost:8080/"
        },
        "id": "ssXJi_eVRriW",
        "outputId": "978c4f87-e3cc-4c8d-88fe-82cde8e942a7"
      },
      "source": [
        "print(list(range(5)))"
      ],
      "execution_count": 65,
      "outputs": [
        {
          "output_type": "stream",
          "text": [
            "[0, 1, 2, 3, 4]\n"
          ],
          "name": "stdout"
        }
      ]
    },
    {
      "cell_type": "code",
      "metadata": {
        "colab": {
          "base_uri": "https://localhost:8080/"
        },
        "id": "psjiJuRpRt5y",
        "outputId": "5351c170-631e-4ee3-9267-4c106cb5c95a"
      },
      "source": [
        "# Map function is important for lists\n",
        "a = list(range(5))\n",
        "print(a)"
      ],
      "execution_count": 67,
      "outputs": [
        {
          "output_type": "stream",
          "text": [
            "[0, 1, 2, 3, 4]\n"
          ],
          "name": "stdout"
        }
      ]
    },
    {
      "cell_type": "code",
      "metadata": {
        "colab": {
          "base_uri": "https://localhost:8080/"
        },
        "id": "e-zFs72uR2It",
        "outputId": "ce2b5ea1-5eaf-44a7-83c7-36909cca9395"
      },
      "source": [
        "b = list(map(lambda x: x**2, a))\n",
        "print(b)"
      ],
      "execution_count": 69,
      "outputs": [
        {
          "output_type": "stream",
          "text": [
            "[0, 1, 4, 9, 16]\n"
          ],
          "name": "stdout"
        }
      ]
    },
    {
      "cell_type": "code",
      "metadata": {
        "colab": {
          "base_uri": "https://localhost:8080/"
        },
        "id": "C4eES5FBR7WF",
        "outputId": "c39d639d-55cf-40fd-9609-12b2d5004bd1"
      },
      "source": [
        "# Filter operator \n",
        "c = list(filter(lambda x: x % 2 == 0, b))\n",
        "print(c)"
      ],
      "execution_count": 70,
      "outputs": [
        {
          "output_type": "stream",
          "text": [
            "[0, 4, 16]\n"
          ],
          "name": "stdout"
        }
      ]
    },
    {
      "cell_type": "code",
      "metadata": {
        "colab": {
          "base_uri": "https://localhost:8080/"
        },
        "id": "9Du1mwfKSOY5",
        "outputId": "b862965e-72e5-4f04-f5b8-ea0c937386cc"
      },
      "source": [
        "print(my_phone)\n",
        "type(my_phone)"
      ],
      "execution_count": 71,
      "outputs": [
        {
          "output_type": "stream",
          "text": [
            "['iPhone 5s', False, 4.3, '3G', 'single_sim', 35000]\n"
          ],
          "name": "stdout"
        },
        {
          "output_type": "execute_result",
          "data": {
            "text/plain": [
              "list"
            ]
          },
          "metadata": {
            "tags": []
          },
          "execution_count": 71
        }
      ]
    },
    {
      "cell_type": "markdown",
      "metadata": {
        "id": "WmLS1FQuTO7A"
      },
      "source": [
        "# Tuples, Sets and Dicts"
      ]
    },
    {
      "cell_type": "code",
      "metadata": {
        "id": "0Hih-IswSmDh"
      },
      "source": [
        "my_phone_tuple = ('iPhone 5s', False, 4.3)"
      ],
      "execution_count": 111,
      "outputs": []
    },
    {
      "cell_type": "code",
      "metadata": {
        "colab": {
          "base_uri": "https://localhost:8080/"
        },
        "id": "ceZs3k4ESrbQ",
        "outputId": "751d5194-88b8-4d17-e64d-a5b63e4125ec"
      },
      "source": [
        "print(my_phone_tuple)\n",
        "type(my_phone_tuple)"
      ],
      "execution_count": 112,
      "outputs": [
        {
          "output_type": "stream",
          "text": [
            "('iPhone 5s', False, 4.3)\n"
          ],
          "name": "stdout"
        },
        {
          "output_type": "execute_result",
          "data": {
            "text/plain": [
              "tuple"
            ]
          },
          "metadata": {
            "tags": []
          },
          "execution_count": 112
        }
      ]
    },
    {
      "cell_type": "code",
      "metadata": {
        "colab": {
          "base_uri": "https://localhost:8080/"
        },
        "id": "-SO95X-0Swtz",
        "outputId": "b61dde67-f369-4f19-9621-2d8f94cff71d"
      },
      "source": [
        "my_phone_tuple[0:2]"
      ],
      "execution_count": 113,
      "outputs": [
        {
          "output_type": "execute_result",
          "data": {
            "text/plain": [
              "('iPhone 5s', False)"
            ]
          },
          "metadata": {
            "tags": []
          },
          "execution_count": 113
        }
      ]
    },
    {
      "cell_type": "code",
      "metadata": {
        "colab": {
          "base_uri": "https://localhost:8080/"
        },
        "id": "vOnpv9-JS1hW",
        "outputId": "4745d015-6652-4a90-9fac-00caa313ef79"
      },
      "source": [
        "for data in my_phone_tuple:\n",
        "  print(data)"
      ],
      "execution_count": 114,
      "outputs": [
        {
          "output_type": "stream",
          "text": [
            "iPhone 5s\n",
            "False\n",
            "4.3\n"
          ],
          "name": "stdout"
        }
      ]
    },
    {
      "cell_type": "code",
      "metadata": {
        "colab": {
          "base_uri": "https://localhost:8080/",
          "height": 163
        },
        "id": "HZE2IboXS6X9",
        "outputId": "ba098669-473b-4064-d905-8a2321f31a92"
      },
      "source": [
        "my_phone_tuple[2] = 4"
      ],
      "execution_count": 115,
      "outputs": [
        {
          "output_type": "error",
          "ename": "TypeError",
          "evalue": "ignored",
          "traceback": [
            "\u001b[0;31m---------------------------------------------------------------------------\u001b[0m",
            "\u001b[0;31mTypeError\u001b[0m                                 Traceback (most recent call last)",
            "\u001b[0;32m<ipython-input-115-01379ee61114>\u001b[0m in \u001b[0;36m<module>\u001b[0;34m()\u001b[0m\n\u001b[0;32m----> 1\u001b[0;31m \u001b[0mmy_phone_tuple\u001b[0m\u001b[0;34m[\u001b[0m\u001b[0;36m2\u001b[0m\u001b[0;34m]\u001b[0m \u001b[0;34m=\u001b[0m \u001b[0;36m4\u001b[0m\u001b[0;34m\u001b[0m\u001b[0;34m\u001b[0m\u001b[0m\n\u001b[0m",
            "\u001b[0;31mTypeError\u001b[0m: 'tuple' object does not support item assignment"
          ]
        }
      ]
    },
    {
      "cell_type": "code",
      "metadata": {
        "id": "2Dp6ArXwS-t9"
      },
      "source": [
        "import time"
      ],
      "execution_count": null,
      "outputs": []
    },
    {
      "cell_type": "code",
      "metadata": {
        "id": "OzOx9-nTTXuM"
      },
      "source": [
        "tic = time.time()\n",
        "print(tic)"
      ],
      "execution_count": null,
      "outputs": []
    },
    {
      "cell_type": "code",
      "metadata": {
        "id": "MBUeE61HTdi0"
      },
      "source": [
        "time.time?"
      ],
      "execution_count": null,
      "outputs": []
    },
    {
      "cell_type": "code",
      "metadata": {
        "id": "OI0kXGh7ThwB"
      },
      "source": [
        "tic = time.time()\n",
        "# do something that takes some time to be measured\n",
        "toc = time.time()\n",
        "print('Elapsed time in seconds:', toc-tic)"
      ],
      "execution_count": null,
      "outputs": []
    },
    {
      "cell_type": "code",
      "metadata": {
        "id": "3s-uUzGbTsf7"
      },
      "source": [
        "my_list = list(range(1000000))\n",
        "tic = time.time()\n",
        "my_list_squared = list(map(lambda i: i ** 2,my_list))\n",
        "toc = time.time()\n",
        "print('Elapsed time in seconds', toc - tic)"
      ],
      "execution_count": null,
      "outputs": []
    },
    {
      "cell_type": "code",
      "metadata": {
        "id": "mXN40rh_UAv7"
      },
      "source": [
        "my_tuple = tuple(range(1000000))\n",
        "tic = time.time()\n",
        "my_tuple_squared = tuple(map(lambda i: i ** 2,my_tuple))\n",
        "toc = time.time()\n",
        "print('Elapsed time in seconds', toc - tic)"
      ],
      "execution_count": null,
      "outputs": []
    },
    {
      "cell_type": "code",
      "metadata": {
        "id": "IzghQb4PUHpM"
      },
      "source": [
        "my_set = set(my_phone)"
      ],
      "execution_count": null,
      "outputs": []
    },
    {
      "cell_type": "code",
      "metadata": {
        "id": "7mmXOjdIUjU3"
      },
      "source": [
        "print(my_set)"
      ],
      "execution_count": null,
      "outputs": []
    },
    {
      "cell_type": "code",
      "metadata": {
        "id": "-qFUyS55Ukh8"
      },
      "source": [
        " my_phone.append(4.3)"
      ],
      "execution_count": null,
      "outputs": []
    },
    {
      "cell_type": "code",
      "metadata": {
        "id": "f2ECGCvrUxyY"
      },
      "source": [
        "print(my_phone)"
      ],
      "execution_count": null,
      "outputs": []
    },
    {
      "cell_type": "code",
      "metadata": {
        "id": "uXTzh2nmU0Fo"
      },
      "source": [
        "my_set = set(my_phone)"
      ],
      "execution_count": null,
      "outputs": []
    },
    {
      "cell_type": "code",
      "metadata": {
        "id": "gyeBPXmhU3Gf"
      },
      "source": [
        "print(my_set)"
      ],
      "execution_count": null,
      "outputs": []
    },
    {
      "cell_type": "code",
      "metadata": {
        "id": "Oak4iPgSU4Jn"
      },
      "source": [
        "my_list = list(range(1000000))\n",
        "tic = time.time()\n",
        "print(98731 in my_list)\n",
        "print(98734 in my_list)\n",
        "print(98731333 in my_list)\n",
        "toc = time.time()\n",
        "print('Elapsed time:' , toc - tic)"
      ],
      "execution_count": null,
      "outputs": []
    },
    {
      "cell_type": "code",
      "metadata": {
        "id": "ueQR7aurWUZp"
      },
      "source": [
        "my_set = set(range(1000000))\n",
        "tic = time.time()\n",
        "print(98731 in my_set)\n",
        "print(98734 in my_set)\n",
        "print(98731333 in my_set)\n",
        "toc = time.time()\n",
        "print('Elapsed time:' , toc - tic)"
      ],
      "execution_count": null,
      "outputs": []
    },
    {
      "cell_type": "code",
      "metadata": {
        "id": "5BgryZJkWb2e"
      },
      "source": [
        "my_phone_dict = {}"
      ],
      "execution_count": null,
      "outputs": []
    },
    {
      "cell_type": "code",
      "metadata": {
        "id": "igxTtwH0WoXo"
      },
      "source": [
        "type(my_phone_dict)"
      ],
      "execution_count": null,
      "outputs": []
    },
    {
      "cell_type": "code",
      "metadata": {
        "id": "i-r7uvV3WqVe"
      },
      "source": [
        "my_phone_dict['name'] = 'iPhone 5s'\n",
        "my_phone_dict['isAndroid'] = False\n",
        "my_phone_dict['screenSize'] = 4.3"
      ],
      "execution_count": null,
      "outputs": []
    },
    {
      "cell_type": "code",
      "metadata": {
        "id": "QV7ORviLW4_V"
      },
      "source": [
        "print(my_phone_dict)"
      ],
      "execution_count": null,
      "outputs": []
    },
    {
      "cell_type": "code",
      "metadata": {
        "id": "62OG1b-SW6_0"
      },
      "source": [
        "print(my_phone_dict['name'])"
      ],
      "execution_count": null,
      "outputs": []
    },
    {
      "cell_type": "code",
      "metadata": {
        "id": "Xw3aR5MOW-lF"
      },
      "source": [
        "print(my_phone_dict.keys())"
      ],
      "execution_count": null,
      "outputs": []
    },
    {
      "cell_type": "code",
      "metadata": {
        "id": "BJZvgwtCXDcD"
      },
      "source": [
        "print(my_phone_dict.values())"
      ],
      "execution_count": null,
      "outputs": []
    },
    {
      "cell_type": "code",
      "metadata": {
        "colab": {
          "base_uri": "https://localhost:8080/"
        },
        "id": "P96ZqETcXGd2",
        "outputId": "dd42e581-e38d-4c47-e9cd-01583455c13e"
      },
      "source": [
        "for key in my_phone_dict.keys():\n",
        "  print(key, ':', my_phone_dict[key])"
      ],
      "execution_count": 116,
      "outputs": [
        {
          "output_type": "stream",
          "text": [
            "name : iPhone 5s\n",
            "isAndroid : False\n",
            "screenSize : 4.3\n"
          ],
          "name": "stdout"
        }
      ]
    },
    {
      "cell_type": "markdown",
      "metadata": {
        "id": "wC2P5I8PXjOE"
      },
      "source": [
        "# Packages in Python"
      ]
    },
    {
      "cell_type": "code",
      "metadata": {
        "id": "qkxosx3qXI9Z"
      },
      "source": [
        ""
      ],
      "execution_count": null,
      "outputs": []
    }
  ]
}